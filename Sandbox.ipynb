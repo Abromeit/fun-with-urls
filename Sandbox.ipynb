{
 "cells": [
  {
   "cell_type": "code",
   "execution_count": null,
   "metadata": {
    "collapsed": false
   },
   "outputs": [],
   "source": [
    "import re\n",
    "from urukhai import get_regex, get_prefixes_random\n",
    "def prn(x): print x\n",
    "\n",
    "with open('var/site7.txt', 'r') as data: urls = map(lambda x: x.strip(), data.readlines())\n",
    "\n",
    "last = -1\n",
    "rounds = 100\n",
    "\n",
    "shards = set()\n",
    "while True:\n",
    "    ss = get_prefixes_random(urls)\n",
    "    for s in ss: shards.add(s)\n",
    "    if len(shards) == last: rounds -= 1\n",
    "    else: last = len(shards)\n",
    "    if not rounds: break\n",
    "\n",
    "map(prn, shards)\n",
    "pass"
   ]
  },
  {
   "cell_type": "code",
   "execution_count": null,
   "metadata": {
    "collapsed": true
   },
   "outputs": [],
   "source": []
  }
 ],
 "metadata": {
  "kernelspec": {
   "display_name": "Python 2",
   "language": "python",
   "name": "python2"
  },
  "language_info": {
   "codemirror_mode": {
    "name": "ipython",
    "version": 2
   },
   "file_extension": ".py",
   "mimetype": "text/x-python",
   "name": "python",
   "nbconvert_exporter": "python",
   "pygments_lexer": "ipython2",
   "version": "2.7.10"
  }
 },
 "nbformat": 4,
 "nbformat_minor": 0
}
