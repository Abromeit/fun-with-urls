{
 "cells": [
  {
   "cell_type": "code",
   "execution_count": 1,
   "metadata": {
    "collapsed": true
   },
   "outputs": [],
   "source": [
    "from urukhai import get_regex"
   ]
  },
  {
   "cell_type": "code",
   "execution_count": 4,
   "metadata": {
    "collapsed": false
   },
   "outputs": [
    {
     "name": "stdout",
     "output_type": "stream",
     "text": [
      "0.11 \t141 \thttp\\:\\/\\/floridagunclassifieds\\.com\\/ad\\-tag\\/[0-9a-zA-Z._-]+/\n",
      "0.06 \t78 \thttp\\:\\/\\/floridagunclassifieds\\.com\\/ad\\-tag\\/[0-9a-zA-Z._-]+/[a-zA-Z]+/([0-9]+/)?\n",
      "0.46 \t564 \thttp\\:\\/\\/floridagunclassifieds\\.com\\/listing\\/[0-9a-zA-Z._-]+/([0-9]+/)?\n",
      "0.14 \t168 \thttp\\:\\/\\/floridagunclassifieds\\.com\\/listing\\/[0-9a-zA-Z._-]+\\/\\?share\\=[0-9a-zA-Z._-]+\n",
      "0.46 \t564 \thttp\\:\\/\\/floridagunclassifieds\\.com\\/listing\\/[0-9a-zA-Z._-]+/(.*)?\n",
      "0.46 \t564 \thttp\\:\\/\\/floridagunclassifieds\\.com\\/listing\\/[0-9a-zA-Z._-]+/\n",
      "0.10 \t122 \thttp\\:\\/\\/floridagunclassifieds\\.com\\/author\\/[0-9a-zA-Z._-]+/\n",
      "0.46 \t566 \thttp\\:\\/\\/floridagunclassifieds\\.com\\/li[a-zA-Z]+.*\n",
      "1.00 \t1229 \thttp\\:\\/\\/floridagunclassifieds\\.com\\/([a-zA-Z]+/[0-9a-zA-Z._-]+/)?\n",
      "0.21 \t263 \thttp\\:\\/\\/floridagunclassifieds\\.com\\/a[0-9a-zA-Z._-]+/[0-9a-zA-Z._-]+/([a-zA-Z]+/[0-9]+/)?\n",
      "0.49 \t597 \thttp\\:\\/\\/floridagunclassifieds\\.com\\/l[a-zA-Z]+/([0-9a-zA-Z._-]+/)?\n",
      "0.49 \t597 \thttp\\:\\/\\/floridagunclassifieds\\.com\\/l[a-zA-Z]+/.*\n",
      "0.49 \t598 \thttp\\:\\/\\/floridagunclassifieds\\.com\\/l[a-zA-Z]+.*\n",
      "0.09 \t108 \thttp\\:\\/\\/floridagunclassifieds\\.com\\/t[0-9a-zA-Z._-]+/.*\n",
      "0.21 \t263 \thttp\\:\\/\\/floridagunclassifieds\\.com\\/a[0-9a-zA-Z._-]+/[0-9a-zA-Z._-]+/\n",
      "0.21 \t263 \thttp\\:\\/\\/floridagunclassifieds\\.com\\/a[0-9a-zA-Z._-]+/[0-9a-zA-Z._-]+/([a-zA-Z]+/)?\n",
      "0.19 \t237 \thttp\\:\\/\\/floridagunclassifieds\\.com\\/a[0-9a-zA-Z._-]+/[a-zA-Z]+.*\n",
      "0.21 \t263 \thttp\\:\\/\\/floridagunclassifieds\\.com\\/a[0-9a-zA-Z._-]+/[0-9a-zA-Z._-]+/([a-zA-Z]+/([0-9]+/)?)?\n",
      "1.00 \t1224 \thttp\\:\\/\\/floridagunclassifieds\\.com\\/[0-9a-zA-Z._-]+/.*\n",
      "1.00 \t1224 \thttp\\:\\/\\/floridagunclassifieds\\.com\\/[0-9a-zA-Z._-]+/([0-9a-zA-Z._-]+/([a-zA-Z]+/[0-9]+/)?)?\n",
      "0.63 \t778 \thttp\\:\\/\\/floridagunclassifieds\\.com\\/[a-zA-Z]+/[0-9a-zA-Z._-]+/([a-zA-Z]+/[0-9]+/)?\n",
      "0.15 \t181 \thttp\\:\\/\\/floridagunclassifieds\\.com\\/[0-9a-zA-Z._-]+/[a-zA-Z]+/([a-zA-Z]+/)?\n",
      "0.03 \t40 \thttp\\:\\/\\/floridagunclassifieds\\.com\\/[a-zA-Z]+.*\\/\\?share\\=pinterest\n",
      "1.00 \t1228 \thttp\\:\\/\\/floridagunclassifieds\\.com\\/[a-zA-Z]+.*\n",
      "1.00 \t1228 \thttp\\:\\/\\/floridagunclassifieds\\.com\\/[0-9a-zA-Z._-]+(/.*)?\n",
      "0.75 \t923 \thttp\\:\\/\\/floridagunclassifieds\\.com\\/[0-9a-zA-Z._-]+/[a-zA-Z]+.*\n",
      "1.00 \t1224 \thttp\\:\\/\\/floridagunclassifieds\\.com\\/[0-9a-zA-Z._-]+/(.*)?\n",
      "0.79 \t966 \thttp\\:\\/\\/floridagunclassifieds\\.com\\/[0-9a-zA-Z._-]+/[0-9a-zA-Z._-]+/([a-zA-Z]+/[0-9]+/)?\n",
      "1.00 \t1228 \thttp\\:\\/\\/floridagunclassifieds\\.com\\/[0-9a-zA-Z._-]+(/[0-9a-zA-Z._-]+/)?\n",
      "0.79 \t966 \thttp\\:\\/\\/floridagunclassifieds\\.com\\/[0-9a-zA-Z._-]+/[0-9a-zA-Z._-]+/\n",
      "0.12 \t144 \thttp\\:\\/\\/floridagunclassifieds\\.com\\/[a-zA-Z]+/[0-9a-zA-Z._-]+e\\/\n",
      "0.79 \t966 \thttp\\:\\/\\/floridagunclassifieds\\.com\\/[0-9a-zA-Z._-]+/[0-9a-zA-Z._-]+/([0-9a-zA-Z._-]+/([0-9]+/)?)?\n",
      "1.00 \t1224 \thttp\\:\\/\\/floridagunclassifieds\\.com\\/[0-9a-zA-Z._-]+/([0-9a-zA-Z._-]+/)?\n",
      "0.70 \t855 \thttp\\:\\/\\/floridagunclassifieds\\.com\\/[a-zA-Z]+/([0-9a-zA-Z._-]+/)?\n",
      "0.79 \t966 \thttp\\:\\/\\/floridagunclassifieds\\.com\\/[0-9a-zA-Z._-]+/[0-9a-zA-Z._-]+/([0-9a-zA-Z._-]+/([a-zA-Z]+/)?)?\n",
      "0.79 \t966 \thttp\\:\\/\\/floridagunclassifieds\\.com\\/[0-9a-zA-Z._-]+/[0-9a-zA-Z._-]+/([0-9a-zA-Z._-]+/[a-zA-Z]+/[0-9]+/)?\n",
      "0.63 \t778 \thttp\\:\\/\\/floridagunclassifieds\\.com\\/[a-zA-Z]+/[0-9a-zA-Z._-]+/\n",
      "1.00 \t1224 \thttp\\:\\/\\/floridagunclassifieds\\.com\\/[0-9a-zA-Z._-]+/([0-9a-zA-Z._-]+/([0-9a-zA-Z._-]+/)?)?\n",
      "0.79 \t966 \thttp\\:\\/\\/floridagunclassifieds\\.com\\/[0-9a-zA-Z._-]+/[0-9a-zA-Z._-]+/.*\n",
      "0.79 \t966 \thttp\\:\\/\\/floridagunclassifieds\\.com\\/[0-9a-zA-Z._-]+/[0-9a-zA-Z._-]+/([a-zA-Z]+/([0-9]+/)?)?\n",
      "0.63 \t778 \thttp\\:\\/\\/floridagunclassifieds\\.com\\/[a-zA-Z]+/[0-9a-zA-Z._-]+/(.*)?\n",
      "0.79 \t966 \thttp\\:\\/\\/floridagunclassifieds\\.com\\/[0-9a-zA-Z._-]+/[0-9a-zA-Z._-]+/([0-9a-zA-Z._-]+/)?\n",
      "0.79 \t966 \thttp\\:\\/\\/floridagunclassifieds\\.com\\/[0-9a-zA-Z._-]+/[0-9a-zA-Z._-]+/([a-zA-Z]+/)?\n",
      "1.00 \t1228 \thttp\\:\\/\\/floridagunclassifieds\\.com\\/[0-9a-zA-Z._-]+(/[0-9a-zA-Z._-]+/([a-zA-Z]+/[0-9]+/)?)?\n",
      "1.00 \t1224 \thttp\\:\\/\\/floridagunclassifieds\\.com\\/[0-9a-zA-Z._-]+/([0-9a-zA-Z._-]+/([a-zA-Z]+/)?)?\n",
      "0.79 \t966 \thttp\\:\\/\\/floridagunclassifieds\\.com\\/[0-9a-zA-Z._-]+/[0-9a-zA-Z._-]+/([0-9a-zA-Z._-]+/([a-zA-Z]+/[0-9]+/)?)?\n",
      "0.79 \t966 \thttp\\:\\/\\/floridagunclassifieds\\.com\\/[0-9a-zA-Z._-]+/[0-9a-zA-Z._-]+/([0-9a-zA-Z._-]+/[a-zA-Z]+/)?\n",
      "0.70 \t855 \thttp\\:\\/\\/floridagunclassifieds\\.com\\/[a-zA-Z]+/.*\n",
      "0.79 \t966 \thttp\\:\\/\\/floridagunclassifieds\\.com\\/[0-9a-zA-Z._-]+/[0-9a-zA-Z._-]+/(.*)?\n",
      "0.46 \t565 \thttp\\:\\/\\/floridagunclassifieds\\.com\\/listing\\/.*\n",
      "['http\\\\:\\\\/\\\\/floridagunclassifieds\\\\.com\\\\/([a-zA-Z]+/[0-9a-zA-Z._-]+/)?']\n"
     ]
    }
   ],
   "source": [
    "import re\n",
    "import random\n",
    "\n",
    "with open('var/list6.txt', 'r') as data:\n",
    "    urls = map(lambda x: x.strip(), data.readlines())\n",
    "\n",
    "matches = set()\n",
    "while len(matches) < 50:\n",
    "    regex = get_regex(random.sample(urls, 3))\n",
    "    matches.add(regex)\n",
    "\n",
    "match_data = {}\n",
    "for kk, vv in enumerate(matches):\n",
    "    count = 0\n",
    "    _re = re.compile(vv)\n",
    "    _none = type(None)\n",
    "    for url in urls:\n",
    "        count += 1 if type(_re.match(url)) != _none else 0\n",
    "    match_data[kk] = {'regex': vv, 'count': count }\n",
    "\n",
    "sorted_matches = sorted(match_data.values(), key=lambda x: x['regex'].find('['), reverse=True)\n",
    "#sorted_matches = sorted(match_data.values(), key=lambda x: x['count'], reverse=True)\n",
    "total = len(urls)\n",
    "whole_site = []\n",
    "for item in sorted_matches:\n",
    "    pct = float(item['count']) / total\n",
    "    \n",
    "    if item['count'] == total: whole_site.append(item['regex'])\n",
    "    \n",
    "    #if item['count'] > 2 and pct < .5:\n",
    "    print '%.2f' % pct, '\\t', item['count'], '\\t', item['regex']\n",
    "\n",
    "print whole_site\n",
    "if len(whole_site) > 1:\n",
    "    print reduce(lambda x, y: x if len(x) < len(y) else y, whole_site)    \n",
    "# regexes with pct == 1 are matches for the whole site; select the shortest one"
   ]
  },
  {
   "cell_type": "code",
   "execution_count": null,
   "metadata": {
    "collapsed": true
   },
   "outputs": [],
   "source": []
  }
 ],
 "metadata": {
  "kernelspec": {
   "display_name": "Python 2",
   "language": "python",
   "name": "python2"
  },
  "language_info": {
   "codemirror_mode": {
    "name": "ipython",
    "version": 2
   },
   "file_extension": ".py",
   "mimetype": "text/x-python",
   "name": "python",
   "nbconvert_exporter": "python",
   "pygments_lexer": "ipython2",
   "version": "2.7.10"
  }
 },
 "nbformat": 4,
 "nbformat_minor": 0
}
